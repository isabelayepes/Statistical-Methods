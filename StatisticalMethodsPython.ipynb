{
 "cells": [
  {
   "cell_type": "markdown",
   "metadata": {},
   "source": [
    "Code snippets in Python for implementing the non-parametric statistical methods: Mann-Kendall Test, Theil-Sen Regression, and Kaplan-Meier estimator for left-censored data."
   ]
  },
  {
   "cell_type": "code",
   "execution_count": 6,
   "metadata": {},
   "outputs": [
    {
     "name": "stdout",
     "output_type": "stream",
     "text": [
      "Tau: 0.6428571428571428\n",
      "P-value: 0.03115079365079365\n"
     ]
    }
   ],
   "source": [
    "#Mann-Kendall Test\n",
    "#non parametric so doesn't assume a distribution nor does it assume homoscedasticity (constant variance of residuals)\n",
    "#time series increases or decreases\n",
    "import numpy as np\n",
    "from scipy.stats import kendalltau\n",
    "\n",
    "# Example data\n",
    "x = np.array([4, 7, 9, 10, 6, 8, 11, 13])\n",
    "\n",
    "# Perform Mann-Kendall Test\n",
    "tau, p_value = kendalltau(np.arange(len(x)), x)\n",
    "print(\"Tau:\", tau)\n",
    "print(\"P-value:\", p_value)"
   ]
  },
  {
   "cell_type": "code",
   "execution_count": 2,
   "metadata": {},
   "outputs": [
    {
     "name": "stdout",
     "output_type": "stream",
     "text": [
      "Coefficient: [1.14705072]\n",
      "Intercept: 3.9524436575294843\n"
     ]
    }
   ],
   "source": [
    "#Theil-Sen Regression\n",
    "#median of slope of all points, less susceptible to outliers than OLS regression\n",
    "import numpy as np\n",
    "from sklearn.linear_model import TheilSenRegressor\n",
    "\n",
    "# Example data\n",
    "x = np.array([1, 2, 3, 4, 5, 6, 7, 8]).reshape(-1, 1)\n",
    "y = np.array([4, 7, 9, 10, 6, 8, 11, 13])\n",
    "\n",
    "# Perform Theil-Sen Regression\n",
    "regressor = TheilSenRegressor(random_state=42)\n",
    "regressor.fit(x, y)\n",
    "print(\"Coefficient:\", regressor.coef_)\n",
    "print(\"Intercept:\", regressor.intercept_)"
   ]
  },
  {
   "cell_type": "code",
   "execution_count": 9,
   "metadata": {},
   "outputs": [
    {
     "data": {
      "text/plain": [
       "<AxesSubplot:xlabel='timeline'>"
      ]
     },
     "execution_count": 9,
     "metadata": {},
     "output_type": "execute_result"
    },
    {
     "data": {
      "image/png": "[encoded data removed]",
      "text/plain": [
       "<Figure size 640x480 with 1 Axes>"
      ]
     },
     "metadata": {},
     "output_type": "display_data"
    }
   ],
   "source": [
    "#Kaplan-Meier Estimator with Left-Censored Data\n",
    "from lifelines import KaplanMeierFitter\n",
    "\n",
    "# Example data\n",
    "time = [2, 3, 4, 2, 1, 3, 4, 5]\n",
    "event = [1, 1, 1, 1, 0, 1, 0, 1]  # 1 for event occurred, 0 for censored\n",
    "\n",
    "# Create Kaplan-Meier model\n",
    "kmf = KaplanMeierFitter()\n",
    "kmf.fit(time, event)\n",
    "\n",
    "# Plot the results\n",
    "kmf.plot_survival_function()\n",
    "#A step function plot showing the probability of survival beyond each time point."
   ]
  }
 ],
 "metadata": {
  "kernelspec": {
   "display_name": "Python 3.9.16 ('PakiMod')",
   "language": "python",
   "name": "python3"
  },
  "language_info": {
   "codemirror_mode": {
    "name": "ipython",
    "version": 3
   },
   "file_extension": ".py",
   "mimetype": "text/x-python",
   "name": "python",
   "nbconvert_exporter": "python",
   "pygments_lexer": "ipython3",
   "version": "3.9.16"
  },
  "orig_nbformat": 4,
  "vscode": {
   "interpreter": {
    "hash": "513d1eb246aa0bb77eaf9a413dcd9e8c27194e7e657a5c4589188365a8e391b9"
   }
  }
 },
 "nbformat": 4,
 "nbformat_minor": 2
}
